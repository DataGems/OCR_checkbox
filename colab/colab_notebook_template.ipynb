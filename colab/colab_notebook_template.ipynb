{
  "nbformat": 4,
  "nbformat_minor": 0,
  "metadata": {
    "colab": {
      "provenance": [],
      "gpuType": "A100",
      "machine_shape": "hm"
    },
    "kernelspec": {
      "name": "python3",
      "display_name": "Python 3"
    },
    "language_info": {
      "name": "python"
    },
    "accelerator": "GPU"
  },
  "cells": [
    {
      "cell_type": "markdown",
      "source": [
        "# 📋 YOLOv12 Checkbox Detection Training\n",
        "\n",
        "This notebook trains a YOLOv12 model for checkbox detection in PDF documents.\n",
        "\n",
        "**Setup:** Make sure you're using GPU runtime (A100 recommended for Colab Pro)"
      ],
      "metadata": {
        "id": "header"
      }
    },
    {
      "cell_type": "markdown",
      "source": [
        "## 🔧 Step 1: Setup Environment"
      ],
      "metadata": {
        "id": "setup_header"
      }
    },
    {
      "cell_type": "code",
      "source": [
        "# Clone your project repository (replace with your actual repo)\n",
        "!git clone https://github.com/yourusername/OCR_checkbox.git /content/checkbox_detection\n",
        "\n",
        "# Or upload the project files manually\n",
        "# For now, we'll create the structure manually"
      ],
      "metadata": {
        "id": "clone_repo"
      },
      "execution_count": null,
      "outputs": []
    },
    {
      "cell_type": "code",
      "source": [
        "# Upload the colab setup script\n",
        "from google.colab import files\n",
        "import os\n",
        "\n",
        "# Create colab directory\n",
        "os.makedirs('/content/checkbox_detection/colab', exist_ok=True)\n",
        "\n",
        "print(\"📁 Upload your colab/setup_colab_environment.py file:\")\n",
        "uploaded = files.upload()\n",
        "\n",
        "# Move uploaded file to correct location\n",
        "for filename in uploaded.keys():\n",
        "    if filename.endswith('.py'):\n",
        "        os.rename(filename, f'/content/checkbox_detection/colab/{filename}')\n",
        "        print(f\"✅ Uploaded {filename}\")"
      ],
      "metadata": {
        "id": "upload_setup"
      },
      "execution_count": null,
      "outputs": []
    },
    {
      "cell_type": "code",
      "source": [
        "# Run the setup script\n",
        "%run /content/checkbox_detection/colab/setup_colab_environment.py"
      ],
      "metadata": {
        "id": "run_setup"
      },
      "execution_count": null,
      "outputs": []
    },
    {
      "cell_type": "markdown",
      "source": [
        "## 📊 Step 2: Upload Your Dataset"
      ],
      "metadata": {
        "id": "data_header"
      }
    },
    {
      "cell_type": "code",
      "source": [
        "# Option 1: Upload dataset from your computer\n",
        "from google.colab import files\n",
        "import zipfile\n",
        "import os\n",
        "\n",
        "print(\"📁 Upload your prepared dataset (zip file):\")\n",
        "print(\"Expected structure: data/processed/train/, data/processed/val/, data/processed/test/\")\n",
        "\n",
        "uploaded = files.upload()\n",
        "\n",
        "# Extract dataset\n",
        "for filename in uploaded.keys():\n",
        "    if filename.endswith('.zip'):\n",
        "        print(f\"📦 Extracting {filename}...\")\n",
        "        with zipfile.ZipFile(filename, 'r') as zip_ref:\n",
        "            zip_ref.extractall('/content/checkbox_detection/')\n",
        "        os.remove(filename)  # Clean up\n",
        "        print(\"✅ Dataset extracted!\")"
      ],
      "metadata": {
        "id": "upload_data"
      },
      "execution_count": null,
      "outputs": []
    },
    {
      "cell_type": "code",
      "source": [
        "# Option 2: Copy from Google Drive (if you uploaded there)\n",
        "# Uncomment and modify the path if you stored data in Drive\n",
        "\n",
        "# !cp -r \"/content/drive/MyDrive/checkbox_detection_data/*\" \"/content/checkbox_detection/data/\""
      ],
      "metadata": {
        "id": "copy_from_drive"
      },
      "execution_count": null,
      "outputs": []
    },
    {
      "cell_type": "code",
      "source": [
        "# Verify dataset structure\n",
        "import os\n",
        "from pathlib import Path\n",
        "\n",
        "data_dir = Path('/content/checkbox_detection/data/processed')\n",
        "print(\"📊 Dataset verification:\")\n",
        "\n",
        "for split in ['train', 'val', 'test']:\n",
        "    images_dir = data_dir / split / 'images'\n",
        "    labels_dir = data_dir / split / 'labels'\n",
        "    \n",
        "    if images_dir.exists() and labels_dir.exists():\n",
        "        num_images = len(list(images_dir.glob('*.png'))) + len(list(images_dir.glob('*.jpg')))\n",
        "        num_labels = len(list(labels_dir.glob('*.txt')))\n",
        "        print(f\"✅ {split}: {num_images} images, {num_labels} labels\")\n",
        "    else:\n",
        "        print(f\"❌ {split}: Missing directories\")\n",
        "\n",
        "# Check for data.yaml\n",
        "data_yaml = data_dir / 'data.yaml'\n",
        "if data_yaml.exists():\n",
        "    print(f\"✅ Found data.yaml configuration\")\n",
        "    # Show content\n",
        "    with open(data_yaml, 'r') as f:\n",
        "        print(\"Content:\")\n",
        "        print(f.read())\n",
        "else:\n",
        "    print(f\"❌ data.yaml not found - will create one\")"
      ],
      "metadata": {
        "id": "verify_data"
      },
      "execution_count": null,
      "outputs": []
    },
    {
      "cell_type": "markdown",
      "source": [
        "## 🚀 Step 3: Train YOLOv12 Model"
      ],
      "metadata": {
        "id": "training_header"
      }
    },
    {
      "cell_type": "code",
      "source": [
        "# Test YOLOv12 availability first\n",
        "from ultralytics import YOLO\n",
        "import torch\n",
        "\n",
        "print(\"🧪 Testing YOLOv12 availability...\")\n",
        "\n",
        "# Check GPU\n",
        "if torch.cuda.is_available():\n",
        "    gpu_name = torch.cuda.get_device_name(0)\n",
        "    gpu_memory = torch.cuda.get_device_properties(0).total_memory / 1e9\n",
        "    print(f\"🎮 GPU: {gpu_name} ({gpu_memory:.1f} GB)\")\n",
        "else:\n",
        "    print(\"❌ No GPU detected!\")\n",
        "\n",
        "# Test YOLOv12\n",
        "try:\n",
        "    model = YOLO('yolo12n.pt')\n",
        "    print(\"✅ YOLOv12 loaded successfully!\")\n",
        "    print(f\"📊 Parameters: {sum(p.numel() for p in model.model.parameters()):,}\")\n",
        "except Exception as e:\n",
        "    print(f\"❌ YOLOv12 failed to load: {e}\")"
      ],
      "metadata": {
        "id": "test_yolo12"
      },
      "execution_count": null,
      "outputs": []
    },
    {
      "cell_type": "code",
      "source": [
        "# Upload training script\n",
        "from google.colab import files\n",
        "import os\n",
        "\n",
        "print(\"📁 Upload your colab/train_yolo12_colab.py file:\")\n",
        "uploaded = files.upload()\n",
        "\n",
        "# Move to correct location\n",
        "for filename in uploaded.keys():\n",
        "    if filename.endswith('.py'):\n",
        "        os.rename(filename, f'/content/checkbox_detection/colab/{filename}')\n",
        "        print(f\"✅ Uploaded {filename}\")"
      ],
      "metadata": {
        "id": "upload_training_script"
      },
      "execution_count": null,
      "outputs": []
    },
    {
      "cell_type": "code",
      "source": [
        "# Start training!\n",
        "%cd /content/checkbox_detection\n",
        "\n",
        "# Run the training script\n",
        "!python colab/train_yolo12_colab.py"
      ],
      "metadata": {
        "id": "start_training"
      },
      "execution_count": null,
      "outputs": []
    },
    {
      "cell_type": "markdown",
      "source": [
        "## 📊 Step 4: Monitor Training Progress"
      ],
      "metadata": {
        "id": "monitoring_header"
      }
    },
    {
      "cell_type": "code",
      "source": [
        "# View training plots\n",
        "import matplotlib.pyplot as plt\n",
        "from IPython.display import Image, display\n",
        "import glob\n",
        "\n",
        "# Find training results\n",
        "results_dirs = glob.glob('/content/checkbox_detection/models/yolo12_training_*/results.png')\n",
        "\n",
        "if results_dirs:\n",
        "    print(\"📊 Training Results:\")\n",
        "    for results_file in results_dirs[-3:]:  # Show last 3 runs\n",
        "        print(f\"📈 {results_file}\")\n",
        "        display(Image(results_file))\n",
        "else:\n",
        "    print(\"📊 No training results found yet - training may still be in progress\")\n",
        "\n",
        "# Show confusion matrix if available\n",
        "confusion_matrices = glob.glob('/content/checkbox_detection/models/yolo12_training_*/confusion_matrix.png')\n",
        "if confusion_matrices:\n",
        "    print(\"🎯 Confusion Matrix:\")\n",
        "    display(Image(confusion_matrices[-1]))  # Show latest"
      ],
      "metadata": {
        "id": "view_results"
      },
      "execution_count": null,
      "outputs": []
    },
    {
      "cell_type": "code",
      "source": [
        "# Check final metrics\n",
        "import json\n",
        "from pathlib import Path\n",
        "\n",
        "# Look for training metrics in Drive backup\n",
        "metrics_files = list(Path('/content/drive/MyDrive/checkbox_detection_results').glob('*/training_metrics.json'))\n",
        "\n",
        "if metrics_files:\n",
        "    latest_metrics = metrics_files[-1]  # Get most recent\n",
        "    \n",
        "    with open(latest_metrics, 'r') as f:\n",
        "        metrics = json.load(f)\n",
        "    \n",
        "    print(\"🎉 Final Training Metrics:\")\n",
        "    print(f\"📊 mAP@0.5: {metrics.get('mAP50', 'N/A'):.4f}\")\n",
        "    print(f\"📊 mAP@0.5:0.95: {metrics.get('mAP50_95', 'N/A'):.4f}\")\n",
        "    print(f\"📊 Precision: {metrics.get('precision', 'N/A'):.4f}\")\n",
        "    print(f\"📊 Recall: {metrics.get('recall', 'N/A'):.4f}\")\n",
        "    print(f\"⏱️ Training time: {metrics.get('training_time_hours', 'N/A'):.1f} hours\")\n",
        "    \n",
        "    # Check if target achieved\n",
        "    if metrics.get('mAP50', 0) > 0.85:\n",
        "        print(\"🎯 🎉 TARGET ACHIEVED: mAP@0.5 > 0.85! 🎉\")\n",
        "    else:\n",
        "        print(f\"🎯 Target: mAP@0.5 > 0.85 (Current: {metrics.get('mAP50', 0):.4f})\")\nelse:\n",
        "    print(\"📊 No metrics found - training may still be in progress\")"
      ],
      "metadata": {
        "id": "check_metrics"
      },
      "execution_count": null,
      "outputs": []
    },
    {
      "cell_type": "markdown",
      "source": [
        "## 📥 Step 5: Download Results"
      ],
      "metadata": {
        "id": "download_header"
      }
    },
    {
      "cell_type": "code",
      "source": [
        "# Prepare download package\n",
        "import shutil\n",
        "from pathlib import Path\n",
        "from google.colab import files\n",
        "\n",
        "print(\"📦 Preparing results for download...\")\n",
        "\n",
        "# Create download directory\n",
        "download_dir = Path('/content/download_package')\n",
        "download_dir.mkdir(exist_ok=True)\n",
        "\n",
        "# Copy best model weights\n",
        "models_dir = Path('/content/checkbox_detection/models')\n",
        "for model_dir in models_dir.glob('yolo12_training_*'):\n",
        "    weights_dir = model_dir / 'weights'\n",
        "    if (weights_dir / 'best.pt').exists():\n",
        "        target_dir = download_dir / f'model_{model_dir.name}'\n",
        "        target_dir.mkdir(exist_ok=True)\n",
        "        \n",
        "        # Copy model files\n",
        "        shutil.copy2(weights_dir / 'best.pt', target_dir)\n",
        "        if (weights_dir / 'last.pt').exists():\n",
        "            shutil.copy2(weights_dir / 'last.pt', target_dir)\n",
        "        \n",
        "        print(f\"✅ Copied model: {model_dir.name}\")\n",
        "\n",
        "# Copy training plots\n",
        "for plot in models_dir.glob('*/results.png'):\n",
        "    shutil.copy2(plot, download_dir / f'{plot.parent.name}_results.png')\n",
        "\n",
        "# Copy confusion matrices\n",
        "for cm in models_dir.glob('*/confusion_matrix.png'):\n",
        "    shutil.copy2(cm, download_dir / f'{cm.parent.name}_confusion_matrix.png')\n",
        "\n",
        "# Create zip file\n",
        "shutil.make_archive('/content/checkbox_detection_results', 'zip', download_dir)\n",
        "\n",
        "print(\"✅ Results package ready!\")\n",
        "print(f\"📦 Package size: {Path('/content/checkbox_detection_results.zip').stat().st_size / 1e6:.1f} MB\")\n",
        "\n",
        "# Download\n",
        "files.download('/content/checkbox_detection_results.zip')\n",
        "print(\"📥 Download started!\")"
      ],
      "metadata": {
        "id": "download_results"
      },
      "execution_count": null,
      "outputs": []
    },
    {
      "cell_type": "markdown",
      "source": [
        "## 🧪 Step 6: Test Trained Model (Optional)"
      ],
      "metadata": {
        "id": "testing_header"
      }
    },
    {
      "cell_type": "code",
      "source": [
        "# Quick test of the trained model\n",
        "from ultralytics import YOLO\n",
        "import cv2\n",
        "import numpy as np\n",
        "from PIL import Image\n",
        "import matplotlib.pyplot as plt\n",
        "\n",
        "# Load the best trained model\n",
        "model_path = None\n",
        "for model_dir in Path('/content/checkbox_detection/models').glob('yolo12_training_*'):\n",
        "    best_path = model_dir / 'weights' / 'best.pt'\n",
        "    if best_path.exists():\n",
        "        model_path = best_path\n",
        "        break\n",
        "\n",
        "if model_path:\n",
        "    print(f\"📥 Loading trained model: {model_path}\")\n",
        "    model = YOLO(str(model_path))\n",
        "    \n",
        "    # Create a test image with synthetic checkboxes\n",
        "    img = np.ones((400, 600, 3), dtype=np.uint8) * 255\n",
        "    \n",
        "    # Draw test checkboxes\n",
        "    checkboxes = [(50, 50, 30, 30), (200, 100, 25, 25), (350, 150, 35, 35)]\n",
        "    for x, y, w, h in checkboxes:\n",
        "        cv2.rectangle(img, (x, y), (x + w, y + h), (0, 0, 0), 2)\n",
        "        # Add checkmark to first one\n",
        "        if x == 50:\n",
        "            cv2.line(img, (x + 5, y + 15), (x + 12, y + 22), (0, 0, 0), 2)\n",
        "            cv2.line(img, (x + 12, y + 22), (x + 25, y + 8), (0, 0, 0), 2)\n",
        "    \n",
        "    # Run detection\n",
        "    results = model.predict(img, conf=0.25, verbose=False)\n",
        "    \n",
        "    # Visualize results\n",
        "    if results[0].boxes is not None and len(results[0].boxes) > 0:\n",
        "        print(f\"🎯 Detected {len(results[0].boxes)} checkboxes!\")\n",
        "        \n",
        "        # Draw detections\n",
        "        for box in results[0].boxes:\n",
        "            x1, y1, x2, y2 = box.xyxy[0].cpu().numpy().astype(int)\n",
        "            conf = box.conf[0].cpu().numpy()\n",
        "            \n",
        "            # Draw bounding box\n",
        "            cv2.rectangle(img, (x1, y1), (x2, y2), (0, 255, 0), 2)\n",
        "            cv2.putText(img, f'{conf:.2f}', (x1, y1-10), \n",
        "                       cv2.FONT_HERSHEY_SIMPLEX, 0.5, (0, 255, 0), 1)\n",
        "        \n",
        "        # Display\n",
        "        plt.figure(figsize=(10, 6))\n",
        "        plt.imshow(cv2.cvtColor(img, cv2.COLOR_BGR2RGB))\n",
        "        plt.title('Checkbox Detection Test')\n",
        "        plt.axis('off')\n",
        "        plt.show()\n",
        "        \n",
        "    else:\n",
        "        print(\"🤷 No checkboxes detected - model may need more training\")\n",
        "        \n",
        "else:\n",
        "    print(\"❌ No trained model found\")"
      ],
      "metadata": {
        "id": "test_model"
      },
      "execution_count": null,
      "outputs": []
    }
  ]
}